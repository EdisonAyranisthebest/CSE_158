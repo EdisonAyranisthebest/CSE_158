{
 "cells": [
  {
   "cell_type": "code",
   "execution_count": 38,
   "id": "07ad6b17",
   "metadata": {
    "id": "07ad6b17"
   },
   "outputs": [],
   "source": [
    "import numpy as np\n",
    "from sklearn.linear_model import LinearRegression\n",
    "from dateutil import parser as _dateparser\n",
    "from collections import defaultdict\n",
    "from sklearn import linear_model\n",
    "import numpy\n",
    "import math\n",
    "from sklearn.linear_model import LogisticRegression\n"
   ]
  },
  {
   "cell_type": "code",
   "execution_count": 39,
   "id": "ab71afc7-f078-4439-ba7d-5e348f44266c",
   "metadata": {
    "id": "ab71afc7-f078-4439-ba7d-5e348f44266c"
   },
   "outputs": [],
   "source": [
    "### Question 1"
   ]
  },
  {
   "cell_type": "code",
   "execution_count": 40,
   "id": "f164c2d8-828a-4af2-ba69-000fad8f1c54",
   "metadata": {
    "id": "f164c2d8-828a-4af2-ba69-000fad8f1c54"
   },
   "outputs": [],
   "source": [
    "def getMaxLen(dataset):\n",
    "    maxLen = 0\n",
    "    for d in dataset or []:\n",
    "        txt = d.get('reviewText') or d.get('review_text') or d.get('text') or ''\n",
    "        maxLen = max(maxLen, len(str(txt)))\n",
    "    return maxLen"
   ]
  },
  {
   "cell_type": "code",
   "execution_count": 41,
   "id": "9dc58396-c9f4-4a94-b62e-74e03064ca24",
   "metadata": {
    "id": "9dc58396-c9f4-4a94-b62e-74e03064ca24"
   },
   "outputs": [],
   "source": [
    "def featureQ1(datum, maxLen):\n",
    "    txt = datum.get('reviewText') or datum.get('review_text') or datum.get('text') or ''\n",
    "    L = len(str(txt))\n",
    "    norm_len = (L / maxLen) if maxLen else 0.0\n",
    "    return np.array([1.0, norm_len], dtype=float)"
   ]
  },
  {
   "cell_type": "code",
   "execution_count": 42,
   "id": "f1ebbbb2-d5ae-405e-a02d-7307265387b8",
   "metadata": {
    "id": "f1ebbbb2-d5ae-405e-a02d-7307265387b8"
   },
   "outputs": [],
   "source": [
    "def Q1(dataset):\n",
    "    maxLen = getMaxLen(dataset)\n",
    "    X, y = [], []\n",
    "    for d in dataset or []:\n",
    "        rating = d.get('rating', d.get('overall', d.get('stars')))\n",
    "        if rating is None:\n",
    "            continue\n",
    "        X.append(featureQ1(d, maxLen))\n",
    "        y.append(float(rating))\n",
    "\n",
    "    if not X:\n",
    "        return np.zeros(2), float('nan')\n",
    "\n",
    "    X = np.vstack(X)\n",
    "    y = np.array(y, dtype=float)\n",
    "\n",
    "    lr = LinearRegression(fit_intercept=False)\n",
    "    lr.fit(X, y)\n",
    "\n",
    "    theta = lr.coef_\n",
    "    preds = X @ theta\n",
    "    MSE = float(np.mean((preds - y) ** 2))\n",
    "    return theta, MSE"
   ]
  },
  {
   "cell_type": "code",
   "execution_count": 43,
   "id": "a8e3b548-53bc-47ad-bc45-d63fc4af95ce",
   "metadata": {
    "id": "a8e3b548-53bc-47ad-bc45-d63fc4af95ce"
   },
   "outputs": [],
   "source": [
    "### Question 2"
   ]
  },
  {
   "cell_type": "code",
   "execution_count": 44,
   "id": "abce94cf-a7ca-4eef-b5fa-920349ee1003",
   "metadata": {
    "id": "abce94cf-a7ca-4eef-b5fa-920349ee1003"
   },
   "outputs": [],
   "source": [
    "def featureQ2(datum, maxLen):\n",
    "    txt = datum.get('reviewText') or datum.get('review_text') or datum.get('text') or ''\n",
    "    L = len(str(txt))\n",
    "    x_len = (L / maxLen) if maxLen else 0.0\n",
    "\n",
    "    raw = datum.get('reviewTime') or datum.get('review_time') or datum.get('date') or datum.get('review_date')\n",
    "    day, month = 1, 1\n",
    "    if raw:\n",
    "        try:\n",
    "            dt = _dateparser.parse(str(raw))\n",
    "            day, month = dt.day, dt.month\n",
    "        except Exception:\n",
    "            pass\n",
    "\n",
    "    return np.array([1.0, float(x_len), float(day), float(month)], dtype=float)"
   ]
  },
  {
   "cell_type": "code",
   "execution_count": 45,
   "id": "8cb8f5cf",
   "metadata": {
    "id": "8cb8f5cf"
   },
   "outputs": [],
   "source": [
    "def Q2(dataset):\n",
    "    maxLen = getMaxLen(dataset)\n",
    "    X, Y = [], []\n",
    "    for d in dataset or []:\n",
    "        y = d.get('rating', d.get('overall', d.get('stars')))\n",
    "        if y is None:\n",
    "            continue\n",
    "        X.append(featureQ2(d, maxLen))\n",
    "        Y.append(float(y))\n",
    "\n",
    "    X2 = np.vstack(X) if len(X) else np.zeros((0, 4))\n",
    "    Y2 = np.array(Y, dtype=float)\n",
    "\n",
    "    if len(Y2) == 0:\n",
    "        return X2, Y2, float('nan')\n",
    "\n",
    "    lr = LinearRegression(fit_intercept=False)\n",
    "    lr.fit(X2, Y2)\n",
    "    preds = X2 @ lr.coef_\n",
    "    MSE2 = float(np.mean((preds - Y2) ** 2))\n",
    "    return X2, Y2, MSE2"
   ]
  },
  {
   "cell_type": "code",
   "execution_count": 46,
   "id": "35d18540-6413-4459-8082-0f8cc1d3e276",
   "metadata": {
    "id": "35d18540-6413-4459-8082-0f8cc1d3e276"
   },
   "outputs": [],
   "source": [
    "### Question 3"
   ]
  },
  {
   "cell_type": "code",
   "execution_count": 47,
   "id": "939c02d3-eb26-4e65-96a2-d55fc41d2209",
   "metadata": {
    "id": "939c02d3-eb26-4e65-96a2-d55fc41d2209"
   },
   "outputs": [],
   "source": [
    "def featureQ3(datum, maxLen):\n",
    "    base = featureQ2(datum, maxLen)  \n",
    "\n",
    "    s = str(datum.get('reviewText') or datum.get('review_text') or datum.get('text') or '')\n",
    "    words = s.split()\n",
    "    word_count   = float(len(words))\n",
    "    exclam_count = float(s.count('!'))\n",
    "    caps_ratio   = sum(1 for ch in s if ch.isalpha() and ch.isupper()) / (1.0 + len(s))\n",
    "\n",
    "    extra = np.array([word_count, exclam_count, float(caps_ratio)], dtype=float)\n",
    "    return np.concatenate([base, extra])"
   ]
  },
  {
   "cell_type": "code",
   "execution_count": 48,
   "id": "3efaacd2-6ac8-4a3c-8d32-60ad8f389917",
   "metadata": {
    "id": "3efaacd2-6ac8-4a3c-8d32-60ad8f389917"
   },
   "outputs": [],
   "source": [
    "def Q3(dataset):\n",
    "    maxLen = getMaxLen(dataset)\n",
    "    X, Y = [], []\n",
    "    for d in dataset or []:\n",
    "        y = d.get('rating', d.get('overall', d.get('stars')))\n",
    "        if y is None:\n",
    "            continue\n",
    "        X.append(featureQ3(d, maxLen))\n",
    "        Y.append(float(y))\n",
    "\n",
    "    X3 = np.vstack(X) if len(X) else np.zeros((0, 7))\n",
    "    Y3 = np.array(Y, dtype=float)\n",
    "\n",
    "    if len(Y3) == 0:\n",
    "        return X3, Y3, float('nan')\n",
    "\n",
    "    lr = LinearRegression(fit_intercept=False)\n",
    "    lr.fit(X3, Y3)\n",
    "    preds = X3 @ lr.coef_\n",
    "    MSE3 = float(np.mean((preds - Y3) ** 2))\n",
    "    return X3, Y3, MSE3"
   ]
  },
  {
   "cell_type": "code",
   "execution_count": 49,
   "id": "6d89e772-b1ad-46fc-aeb8-45a6df15fa5d",
   "metadata": {
    "id": "6d89e772-b1ad-46fc-aeb8-45a6df15fa5d"
   },
   "outputs": [],
   "source": [
    "### Question 4"
   ]
  },
  {
   "cell_type": "code",
   "execution_count": 58,
   "id": "d1029574-b4c4-4675-83ad-c20674a2428b",
   "metadata": {
    "id": "d1029574-b4c4-4675-83ad-c20674a2428b"
   },
   "outputs": [],
   "source": [
    "def Q4(dataset):\n",
    "    n = len(dataset)\n",
    "    split = n // 2\n",
    "    train, test = dataset[:split], dataset[split:]\n",
    "\n",
    "    # Q2 features (baseline)\n",
    "    maxLen_train = getMaxLen(train)\n",
    "    X2_train = np.vstack([featureQ2(d, maxLen_train) for d in train])\n",
    "    y2_train = np.array([float(d['rating']) for d in train])\n",
    "    theta2 = np.linalg.lstsq(X2_train, y2_train, rcond=None)[0]\n",
    "\n",
    "    X2_test = np.vstack([featureQ2(d, maxLen_train) for d in test])\n",
    "    y2_test = np.array([float(d['rating']) for d in test])\n",
    "    mse2 = np.mean((X2_test @ theta2 - y2_test) ** 2)\n",
    "\n",
    "    # Q3 features (richer)\n",
    "    maxLen_train = getMaxLen(train)\n",
    "    X3_train = np.vstack([featureQ3(d, maxLen_train) for d in train])\n",
    "    y3_train = np.array([float(d['rating']) for d in train])\n",
    "    theta3 = np.linalg.lstsq(X3_train, y3_train, rcond=None)[0]\n",
    "\n",
    "    X3_test = np.vstack([featureQ3(d, maxLen_train) for d in test])\n",
    "    y3_test = np.array([float(d['rating']) for d in test])\n",
    "    mse3 = np.mean((X3_test @ theta3 - y3_test) ** 2)\n",
    "\n",
    "    return mse2, mse3"
   ]
  },
  {
   "cell_type": "code",
   "execution_count": 51,
   "id": "3a38cc78-c502-4ad1-b2db-d8358c0caa3e",
   "metadata": {
    "id": "3a38cc78-c502-4ad1-b2db-d8358c0caa3e"
   },
   "outputs": [],
   "source": [
    "### Question 5"
   ]
  },
  {
   "cell_type": "code",
   "execution_count": 52,
   "id": "4df2e6ea",
   "metadata": {
    "id": "4df2e6ea"
   },
   "outputs": [],
   "source": [
    "def featureQ5(datum):\n",
    "    s = str(datum.get('reviewText') or datum.get('review_text') or datum.get('text') or '')\n",
    "    return np.array([1.0, float(len(s)), float(s.count('!'))], dtype=float)"
   ]
  },
  {
   "cell_type": "code",
   "execution_count": 53,
   "id": "cabb75ec-826a-497e-b158-f5c340aea4d2",
   "metadata": {
    "id": "cabb75ec-826a-497e-b158-f5c340aea4d2"
   },
   "outputs": [],
   "source": [
    "def Q5(dataset, feat_func):\n",
    "    X, y = [], []\n",
    "    for d in dataset or []:\n",
    "        lab = d.get('label', d.get('y', d.get('target')))\n",
    "        if lab is None:\n",
    "            continue\n",
    "        if isinstance(lab, str):\n",
    "            lab = 1 if lab.lower() in ('1', 'pos', 'positive', 'true', 'yes') else 0\n",
    "        y.append(int(lab))\n",
    "        X.append(feat_func(d))\n",
    "\n",
    "    if not X:\n",
    "        return 0, 0, 0, 0, float('nan')\n",
    "\n",
    "    X = np.vstack(X)\n",
    "    y = np.array(y, dtype=int)\n",
    "\n",
    "    # Balanced so the model doesn't predict everything as 1\n",
    "    clf = LogisticRegression(max_iter=1000, class_weight='balanced', solver='liblinear')\n",
    "    clf.fit(X, y)\n",
    "    yp = clf.predict(X)\n",
    "\n",
    "    TP = int(((yp == 1) & (y == 1)).sum())\n",
    "    TN = int(((yp == 0) & (y == 0)).sum())\n",
    "    FP = int(((yp == 1) & (y == 0)).sum())\n",
    "    FN = int(((yp == 0) & (y == 1)).sum())\n",
    "\n",
    "    P = max(int((y == 1).sum()), 1)\n",
    "    N = max(int((y == 0).sum()), 1)\n",
    "    BER = 0.5 * ((FN / P) + (FP / N))\n",
    "    return TP, TN, FP, FN, float(BER)"
   ]
  },
  {
   "cell_type": "code",
   "execution_count": 54,
   "id": "a3c14955-d174-473b-bf2b-a2b98776685e",
   "metadata": {
    "id": "a3c14955-d174-473b-bf2b-a2b98776685e"
   },
   "outputs": [],
   "source": [
    "### Question 6"
   ]
  },
  {
   "cell_type": "code",
   "execution_count": 55,
   "id": "2a71178c-589e-433c-8bdb-70c5e1510fce",
   "metadata": {
    "id": "2a71178c-589e-433c-8bdb-70c5e1510fce"
   },
   "outputs": [],
   "source": [
    "def Q6(dataset):\n",
    "    X, y = [], []\n",
    "    for d in dataset or []:\n",
    "        lab = d.get('label', d.get('y', d.get('target')))\n",
    "        if lab is None:\n",
    "            continue\n",
    "        if isinstance(lab, str):\n",
    "            lab = 1 if lab.lower() in ('1', 'pos', 'positive', 'true', 'yes') else 0\n",
    "        y.append(int(lab))\n",
    "        X.append(featureQ5(d))\n",
    "\n",
    "    if not X:\n",
    "        return []\n",
    "\n",
    "    X = np.vstack(X)\n",
    "    y = np.array(y, dtype=int)\n",
    "\n",
    "    clf = LogisticRegression(max_iter=1000, class_weight='balanced', solver='liblinear')\n",
    "    clf.fit(X, y)\n",
    "    scores = clf.predict_proba(X)[:, 1] \n",
    "\n",
    "    order = np.argsort(-scores)\n",
    "    y_sorted = y[order]\n",
    "    K = min(100, len(y_sorted))\n",
    "\n",
    "    precs, tp = [], 0\n",
    "    for k in range(1, K + 1):\n",
    "        if y_sorted[k - 1] == 1:\n",
    "            tp += 1\n",
    "        precs.append(tp / k)\n",
    "    return precs"
   ]
  },
  {
   "cell_type": "code",
   "execution_count": 56,
   "id": "e8291f55-cfa1-4979-bcaa-42a238e9a844",
   "metadata": {
    "id": "e8291f55-cfa1-4979-bcaa-42a238e9a844"
   },
   "outputs": [],
   "source": [
    "### Question 7"
   ]
  },
  {
   "cell_type": "code",
   "execution_count": 57,
   "id": "96e16d5a",
   "metadata": {
    "id": "96e16d5a"
   },
   "outputs": [],
   "source": [
    "def featureQ7(datum):\n",
    "    s = str(datum.get('reviewText') or datum.get('review_text') or datum.get('text') or '')\n",
    "\n",
    "    # simple lexicons (tiny but effective)\n",
    "    pos_words = {\"good\",\"great\",\"excellent\",\"amazing\",\"love\",\"loved\",\"awesome\",\n",
    "                 \"fantastic\",\"perfect\",\"best\",\"wonderful\",\"favorite\",\"happy\"}\n",
    "    neg_words = {\"bad\",\"terrible\",\"awful\",\"hate\",\"hated\",\"worst\",\"poor\",\n",
    "                 \"disappointing\",\"disappointed\",\"boring\",\"broken\",\"sad\",\"angry\"}\n",
    "\n",
    "    tokens = [t.strip(\".,!?;:()[]{}'\\\"\").lower() for t in s.split() if t]\n",
    "    pos_cnt = sum(t in pos_words for t in tokens)\n",
    "    neg_cnt = sum(t in neg_words for t in tokens)\n",
    "\n",
    "    # other stylistic signals\n",
    "    qmarks = s.count('?')\n",
    "    emarks = s.count('!')\n",
    "    caps_ratio = sum(1 for ch in s if ch.isalpha() and ch.isupper()) / (1.0 + len(s))\n",
    "    digits = sum(ch.isdigit() for ch in s)\n",
    "\n",
    "    return np.array([\n",
    "        1.0,\n",
    "        float(len(s)),           \n",
    "        float(emarks),           \n",
    "        float(qmarks),            \n",
    "        float(pos_cnt),          \n",
    "        float(neg_cnt),           \n",
    "        float(pos_cnt - neg_cnt),\n",
    "        float(digits),            \n",
    "        float(caps_ratio)         \n",
    "    ], dtype=float)\n",
    "\n",
    "\n",
    "def Q7(dataset):\n",
    "    \"\"\"\n",
    "    Compare BER with baseline (featureQ5) vs improved (featureQ7).\n",
    "    Returns (BER5, BER7).\n",
    "    \"\"\"\n",
    "    _, _, _, _, BER5 = Q5(dataset, featureQ5)\n",
    "    _, _, _, _, BER7 = Q5(dataset, featureQ7)\n",
    "    return BER5, BER7"
   ]
  },
  {
   "cell_type": "code",
   "execution_count": null,
   "id": "024a628f",
   "metadata": {
    "id": "024a628f"
   },
   "outputs": [],
   "source": []
  },
  {
   "cell_type": "code",
   "execution_count": null,
   "id": "c6e53829-2a24-4657-b9ac-0b8a888dec1f",
   "metadata": {},
   "outputs": [],
   "source": []
  },
  {
   "cell_type": "code",
   "execution_count": null,
   "id": "ccba735d-0aec-46b4-880d-fafb72d1aea7",
   "metadata": {},
   "outputs": [],
   "source": []
  },
  {
   "cell_type": "code",
   "execution_count": null,
   "id": "cacc5595-f50b-49a9-9afb-d1cf53247830",
   "metadata": {},
   "outputs": [],
   "source": []
  },
  {
   "cell_type": "code",
   "execution_count": null,
   "id": "01da2482-2977-48fc-bfed-52583558d595",
   "metadata": {},
   "outputs": [],
   "source": []
  },
  {
   "cell_type": "code",
   "execution_count": null,
   "id": "d02db7fe-45bf-4a47-849d-e9c42c11e53e",
   "metadata": {},
   "outputs": [],
   "source": []
  },
  {
   "cell_type": "code",
   "execution_count": null,
   "id": "d2628eaa-aa17-486a-8566-f81086b0d457",
   "metadata": {},
   "outputs": [],
   "source": []
  },
  {
   "cell_type": "code",
   "execution_count": null,
   "id": "9e1150ac-5fc8-4a50-8a76-a2bbaab39d46",
   "metadata": {},
   "outputs": [],
   "source": []
  },
  {
   "cell_type": "code",
   "execution_count": null,
   "id": "7d5d400b-5ec4-416b-814a-79c46fa60a98",
   "metadata": {},
   "outputs": [],
   "source": []
  },
  {
   "cell_type": "code",
   "execution_count": null,
   "id": "7fdd8f66-070f-471b-925f-efa66f56db24",
   "metadata": {},
   "outputs": [],
   "source": []
  }
 ],
 "metadata": {
  "colab": {
   "provenance": []
  },
  "kernelspec": {
   "display_name": "Python 3 (ipykernel)",
   "language": "python",
   "name": "python3"
  },
  "language_info": {
   "codemirror_mode": {
    "name": "ipython",
    "version": 3
   },
   "file_extension": ".py",
   "mimetype": "text/x-python",
   "name": "python",
   "nbconvert_exporter": "python",
   "pygments_lexer": "ipython3",
   "version": "3.12.1"
  }
 },
 "nbformat": 4,
 "nbformat_minor": 5
}
