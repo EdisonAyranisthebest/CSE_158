{
 "cells": [
  {
   "cell_type": "code",
   "execution_count": 295,
   "id": "4187aa5f",
   "metadata": {},
   "outputs": [],
   "source": [
    "import gzip\n",
    "import json\n",
    "import dateutil.parser\n",
    "import random"
   ]
  },
  {
   "cell_type": "code",
   "execution_count": 296,
   "id": "e2ecbc02-dcc8-4ffc-b603-594f84b6bdf1",
   "metadata": {},
   "outputs": [
    {
     "name": "stderr",
     "output_type": "stream",
     "text": [
      "[NbConvertApp] Converting notebook homework1.ipynb to python\n",
      "[NbConvertApp] Writing 8439 bytes to homework1.py\n"
     ]
    }
   ],
   "source": [
    "!jupyter nbconvert --to python homework1.ipynb"
   ]
  },
  {
   "cell_type": "code",
   "execution_count": 297,
   "id": "7d10c03b",
   "metadata": {},
   "outputs": [],
   "source": [
    "import homework1"
   ]
  },
  {
   "cell_type": "code",
   "execution_count": 298,
   "id": "83b021c8-18ef-4cad-8bdd-a3b2a8f715e8",
   "metadata": {},
   "outputs": [
    {
     "data": {
      "text/plain": [
       "<module 'homework1' from 'C:\\\\Users\\\\ediso\\\\CSE158R_HW1\\\\homework1.py'>"
      ]
     },
     "execution_count": 298,
     "metadata": {},
     "output_type": "execute_result"
    }
   ],
   "source": [
    "import importlib, homework1\n",
    "importlib.reload(homework1)"
   ]
  },
  {
   "cell_type": "code",
   "execution_count": 299,
   "id": "67e983fe",
   "metadata": {},
   "outputs": [],
   "source": [
    "root = \"CSE158R_HW1\""
   ]
  },
  {
   "cell_type": "code",
   "execution_count": 300,
   "id": "9506e4ea",
   "metadata": {},
   "outputs": [
    {
     "name": "stdout",
     "output_type": "stream",
     "text": [
      "Loaded fantasy dataset: 10000\n"
     ]
    }
   ],
   "source": [
    "with open(\"fantasy_10000.json\", \"r\", encoding=\"utf-8\") as f:\n",
    "    dataset = [json.loads(l) for l in f]\n",
    "\n",
    "print(\"Loaded fantasy dataset:\", len(dataset))\n"
   ]
  },
  {
   "cell_type": "code",
   "execution_count": 301,
   "id": "fa1c922a",
   "metadata": {},
   "outputs": [
    {
     "data": {
      "text/plain": [
       "{'user_id': '8842281e1d1347389f2ab93d60773d4d',\n",
       " 'book_id': '18245960',\n",
       " 'review_id': 'dfdbb7b0eb5a7e4c26d59a937e2e5feb',\n",
       " 'rating': 5,\n",
       " 'review_text': 'This is a special book. It started slow for about the first third, then in the middle third it started to get interesting, then the last third blew my mind. This is what I love about good science fiction - it pushes your thinking about where things can go. \\n It is a 2015 Hugo winner, and translated from its original Chinese, which made it interesting in just a different way from most things I\\'ve read. For instance the intermixing of Chinese revolutionary history - how they kept accusing people of being \"reactionaries\", etc. \\n It is a book about science, and aliens. The science described in the book is impressive - its a book grounded in physics and pretty accurate as far as I could tell. Though when it got to folding protons into 8 dimensions I think he was just making stuff up - interesting to think about though. \\n But what would happen if our SETI stations received a message - if we found someone was out there - and the person monitoring and answering the signal on our side was disillusioned? That part of the book was a bit dark - I would like to think human reaction to discovering alien civilization that is hostile would be more like Enders Game where we would band together. \\n I did like how the book unveiled the Trisolaran culture through the game. It was a smart way to build empathy with them and also understand what they\\'ve gone through across so many centuries. And who know a 3 body problem was an unsolvable math problem? But I still don\\'t get who made the game - maybe that will come in the next book. \\n I loved this quote: \\n \"In the long history of scientific progress, how many protons have been smashed apart in accelerators by physicists? How many neutrons and electrons? Probably no fewer than a hundred million. Every collision was probably the end of the civilizations and intelligences in a microcosmos. In fact, even in nature, the destruction of universes must be happening at every second--for example, through the decay of neutrons. Also, a high-energy cosmic ray entering the atmosphere may destroy thousands of such miniature universes....\"',\n",
       " 'date_added': 'Sun Jul 30 07:44:10 -0700 2017',\n",
       " 'date_updated': 'Wed Aug 30 00:00:26 -0700 2017',\n",
       " 'read_at': 'Sat Aug 26 12:05:52 -0700 2017',\n",
       " 'started_at': 'Tue Aug 15 13:23:18 -0700 2017',\n",
       " 'n_votes': 28,\n",
       " 'n_comments': 1}"
      ]
     },
     "execution_count": 301,
     "metadata": {},
     "output_type": "execute_result"
    }
   ],
   "source": [
    "dataset[0]"
   ]
  },
  {
   "cell_type": "code",
   "execution_count": 302,
   "id": "1dce3b43",
   "metadata": {},
   "outputs": [],
   "source": [
    "for d in dataset:\n",
    "    t = dateutil.parser.parse(d['date_added'])\n",
    "    d['parsed_date'] = t"
   ]
  },
  {
   "cell_type": "code",
   "execution_count": 303,
   "id": "038717f1",
   "metadata": {},
   "outputs": [
    {
     "data": {
      "text/plain": [
       "{'user_id': '8842281e1d1347389f2ab93d60773d4d',\n",
       " 'book_id': '18245960',\n",
       " 'review_id': 'dfdbb7b0eb5a7e4c26d59a937e2e5feb',\n",
       " 'rating': 5,\n",
       " 'review_text': 'This is a special book. It started slow for about the first third, then in the middle third it started to get interesting, then the last third blew my mind. This is what I love about good science fiction - it pushes your thinking about where things can go. \\n It is a 2015 Hugo winner, and translated from its original Chinese, which made it interesting in just a different way from most things I\\'ve read. For instance the intermixing of Chinese revolutionary history - how they kept accusing people of being \"reactionaries\", etc. \\n It is a book about science, and aliens. The science described in the book is impressive - its a book grounded in physics and pretty accurate as far as I could tell. Though when it got to folding protons into 8 dimensions I think he was just making stuff up - interesting to think about though. \\n But what would happen if our SETI stations received a message - if we found someone was out there - and the person monitoring and answering the signal on our side was disillusioned? That part of the book was a bit dark - I would like to think human reaction to discovering alien civilization that is hostile would be more like Enders Game where we would band together. \\n I did like how the book unveiled the Trisolaran culture through the game. It was a smart way to build empathy with them and also understand what they\\'ve gone through across so many centuries. And who know a 3 body problem was an unsolvable math problem? But I still don\\'t get who made the game - maybe that will come in the next book. \\n I loved this quote: \\n \"In the long history of scientific progress, how many protons have been smashed apart in accelerators by physicists? How many neutrons and electrons? Probably no fewer than a hundred million. Every collision was probably the end of the civilizations and intelligences in a microcosmos. In fact, even in nature, the destruction of universes must be happening at every second--for example, through the decay of neutrons. Also, a high-energy cosmic ray entering the atmosphere may destroy thousands of such miniature universes....\"',\n",
       " 'date_added': 'Sun Jul 30 07:44:10 -0700 2017',\n",
       " 'date_updated': 'Wed Aug 30 00:00:26 -0700 2017',\n",
       " 'read_at': 'Sat Aug 26 12:05:52 -0700 2017',\n",
       " 'started_at': 'Tue Aug 15 13:23:18 -0700 2017',\n",
       " 'n_votes': 28,\n",
       " 'n_comments': 1,\n",
       " 'parsed_date': datetime.datetime(2017, 7, 30, 7, 44, 10, tzinfo=tzoffset(None, -25200))}"
      ]
     },
     "execution_count": 303,
     "metadata": {},
     "output_type": "execute_result"
    }
   ],
   "source": [
    "dataset[0]"
   ]
  },
  {
   "cell_type": "code",
   "execution_count": 304,
   "id": "8de30310",
   "metadata": {},
   "outputs": [],
   "source": [
    "dataset4 = dataset[:]\n",
    "random.seed(0)\n",
    "random.shuffle(dataset4)"
   ]
  },
  {
   "cell_type": "code",
   "execution_count": 305,
   "id": "f96c692a-774c-4756-9965-2c9d10dd44aa",
   "metadata": {},
   "outputs": [
    {
     "name": "stdout",
     "output_type": "stream",
     "text": [
      "Loaded beer dataset: 50000\n"
     ]
    }
   ],
   "source": [
    "import ast\n",
    "\n",
    "with open(\"beer_50000.json\", \"r\", encoding=\"utf-8\") as f:\n",
    "    datasetB = [ast.literal_eval(l) for l in f]\n",
    "\n",
    "print(\"Loaded beer dataset:\", len(datasetB))"
   ]
  },
  {
   "cell_type": "code",
   "execution_count": 306,
   "id": "57b3c56c",
   "metadata": {},
   "outputs": [
    {
     "name": "stdout",
     "output_type": "stream",
     "text": [
      "beer labels -> pos: 33612  neg: 16388\n"
     ]
    }
   ],
   "source": [
    "def _get_rating(d):\n",
    "    \"\"\"\n",
    "    Return a float rating from a beer record.\n",
    "    Tries several common field names and simple nested dicts.\n",
    "    \"\"\"\n",
    "    # try top-level keys first\n",
    "    cand_keys = [\n",
    "        \"overall\", \"rating\", \"stars\",\n",
    "        \"review_overall\", \"review/overall\", \"beer/overall\",\n",
    "        \"score\", \"review/score\"\n",
    "    ]\n",
    "    for k in cand_keys:\n",
    "        if k in d:\n",
    "            try:\n",
    "                return float(d[k])\n",
    "            except Exception:\n",
    "                pass\n",
    "\n",
    "    # try one-level nesting like d[\"review\"][\"overall\"], d[\"beer\"][\"overall\"], etc.\n",
    "    for parent in (\"review\", \"beer\", \"user\"):\n",
    "        v = d.get(parent)\n",
    "        if isinstance(v, dict):\n",
    "            for k in (\"overall\", \"rating\", \"score\", \"stars\"):\n",
    "                if k in v:\n",
    "                    try:\n",
    "                        return float(v[k])\n",
    "                    except Exception:\n",
    "                        pass\n",
    "    return None\n",
    "\n",
    "# add labels: positive if rating >= 4.0\n",
    "for rec in datasetB:\n",
    "    r = _get_rating(rec)\n",
    "    rec[\"label\"] = 1 if (r is not None and r >= 4.0) else 0\n",
    "\n",
    "# sanity check\n",
    "pos = sum(rec[\"label\"] for rec in datasetB)\n",
    "neg = len(datasetB) - pos\n",
    "print(f\"beer labels -> pos: {pos}  neg: {neg}\")\n",
    "\n",
    "# if labels are all zero, help you debug by showing a sample record's keys\n",
    "if pos == 0:\n",
    "    ex = datasetB[0]\n",
    "    print(\"Sample record keys:\", list(ex.keys()))\n",
    "    # show one nested dict if present\n",
    "    for k in (\"review\", \"beer\", \"user\"):\n",
    "        if isinstance(ex.get(k), dict):\n",
    "            print(f\"{k} keys:\", list(ex[k].keys()))\n",
    "            break\n"
   ]
  },
  {
   "cell_type": "code",
   "execution_count": 307,
   "id": "b81595ca",
   "metadata": {},
   "outputs": [
    {
     "data": {
      "text/plain": [
       "{'review/appearance': 2.5,\n",
       " 'beer/style': 'Hefeweizen',\n",
       " 'review/palate': 1.5,\n",
       " 'review/taste': 1.5,\n",
       " 'beer/name': 'Sausa Weizen',\n",
       " 'review/timeUnix': 1234817823,\n",
       " 'beer/ABV': 5.0,\n",
       " 'beer/beerId': '47986',\n",
       " 'beer/brewerId': '10325',\n",
       " 'review/timeStruct': {'isdst': 0,\n",
       "  'mday': 16,\n",
       "  'hour': 20,\n",
       "  'min': 57,\n",
       "  'sec': 3,\n",
       "  'mon': 2,\n",
       "  'year': 2009,\n",
       "  'yday': 47,\n",
       "  'wday': 0},\n",
       " 'review/overall': 1.5,\n",
       " 'review/text': 'A lot of foam. But a lot.\\tIn the smell some banana, and then lactic and tart. Not a good start.\\tQuite dark orange in color, with a lively carbonation (now visible, under the foam).\\tAgain tending to lactic sourness.\\tSame for the taste. With some yeast and banana.',\n",
       " 'user/profileName': 'stcules',\n",
       " 'review/aroma': 2.0,\n",
       " 'label': 0}"
      ]
     },
     "execution_count": 307,
     "metadata": {},
     "output_type": "execute_result"
    }
   ],
   "source": [
    "datasetB[0]"
   ]
  },
  {
   "cell_type": "code",
   "execution_count": 308,
   "id": "ecc5a342",
   "metadata": {},
   "outputs": [],
   "source": [
    "def testQ1():\n",
    "    theta1, MSE1 = homework1.Q1(dataset)\n",
    "    # The autograder will compare these answers to a reference solution\n",
    "    print(theta1)\n",
    "    print(MSE1)"
   ]
  },
  {
   "cell_type": "code",
   "execution_count": 309,
   "id": "a4230136",
   "metadata": {},
   "outputs": [],
   "source": [
    "def testQ2():\n",
    "    X, Y, MSE = homework1.Q2(dataset)\n",
    "    print((X[0],Y[0],MSE))"
   ]
  },
  {
   "cell_type": "code",
   "execution_count": 310,
   "id": "38bea736",
   "metadata": {},
   "outputs": [],
   "source": [
    "def testQ3():\n",
    "    X, Y, MSE = homework1.Q3(dataset)\n",
    "    print((X[0],Y[0],MSE))"
   ]
  },
  {
   "cell_type": "code",
   "execution_count": 311,
   "id": "ae790154",
   "metadata": {},
   "outputs": [],
   "source": [
    "def testQ4():\n",
    "    test_mse2, test_mse3 = homework1.Q4(dataset4)\n",
    "    print((test_mse2, test_mse3))"
   ]
  },
  {
   "cell_type": "code",
   "execution_count": 312,
   "id": "ede95f2b",
   "metadata": {},
   "outputs": [],
   "source": [
    "def testQ5():\n",
    "    TP, TN, FP, FN, BER = homework1.Q5(datasetB, homework1.featureQ5)\n",
    "    print((TP, TN, FP, FN, BER))"
   ]
  },
  {
   "cell_type": "code",
   "execution_count": 313,
   "id": "622bb102",
   "metadata": {},
   "outputs": [],
   "source": [
    "def testQ6():\n",
    "    precs = homework1.Q6(datasetB)\n",
    "    print(precs)"
   ]
  },
  {
   "cell_type": "code",
   "execution_count": 314,
   "id": "633cbbdc",
   "metadata": {},
   "outputs": [],
   "source": [
    "def testQ7():\n",
    "    _, _, _, _, BER5 = homework1.Q5(datasetB, homework1.featureQ5)\n",
    "    _, _, _, _, BER7 = homework1.Q5(datasetB, homework1.featureQ7)\n",
    "    print((BER5,BER7))"
   ]
  },
  {
   "cell_type": "code",
   "execution_count": null,
   "id": "00360d4a",
   "metadata": {},
   "outputs": [],
   "source": []
  },
  {
   "cell_type": "code",
   "execution_count": 315,
   "id": "e56353ab",
   "metadata": {},
   "outputs": [
    {
     "name": "stdout",
     "output_type": "stream",
     "text": [
      "[3.68568136 0.98335392]\n",
      "1.5522086622355378\n"
     ]
    }
   ],
   "source": [
    "testQ1()"
   ]
  },
  {
   "cell_type": "code",
   "execution_count": 316,
   "id": "4252f8c4",
   "metadata": {},
   "outputs": [
    {
     "name": "stdout",
     "output_type": "stream",
     "text": [
      "(array([1.        , 0.14581295, 1.        , 1.        ]), 5.0, 1.5522086622355378)\n"
     ]
    }
   ],
   "source": [
    "testQ2()"
   ]
  },
  {
   "cell_type": "code",
   "execution_count": 317,
   "id": "22f0ca7f",
   "metadata": {},
   "outputs": [
    {
     "name": "stdout",
     "output_type": "stream",
     "text": [
      "(array([1.00000000e+00, 1.45812946e-01, 1.00000000e+00, 1.00000000e+00,\n",
      "       3.65000000e+02, 0.00000000e+00, 1.77287973e-02]), 5.0, 1.5219588409110478)\n"
     ]
    }
   ],
   "source": [
    "testQ3()"
   ]
  },
  {
   "cell_type": "code",
   "execution_count": 318,
   "id": "f55aa483",
   "metadata": {},
   "outputs": [
    {
     "name": "stdout",
     "output_type": "stream",
     "text": [
      "(1.6289217487651695, 1.5960097424738884)\n"
     ]
    }
   ],
   "source": [
    "testQ4()"
   ]
  },
  {
   "cell_type": "code",
   "execution_count": 319,
   "id": "f8a37086",
   "metadata": {},
   "outputs": [
    {
     "name": "stdout",
     "output_type": "stream",
     "text": [
      "(0, 16388, 0, 33612, 0.5)\n"
     ]
    }
   ],
   "source": [
    "testQ5()"
   ]
  },
  {
   "cell_type": "code",
   "execution_count": 320,
   "id": "13a7b110",
   "metadata": {},
   "outputs": [
    {
     "name": "stdout",
     "output_type": "stream",
     "text": [
      "[0.0, 0.5, 0.6666666666666666, 0.5, 0.6, 0.6666666666666666, 0.5714285714285714, 0.625, 0.6666666666666666, 0.7, 0.7272727272727273, 0.75, 0.7692307692307693, 0.7857142857142857, 0.8, 0.8125, 0.8235294117647058, 0.8333333333333334, 0.8421052631578947, 0.85, 0.8571428571428571, 0.8636363636363636, 0.8695652173913043, 0.875, 0.88, 0.8846153846153846, 0.8888888888888888, 0.8928571428571429, 0.8620689655172413, 0.8666666666666667, 0.8387096774193549, 0.84375, 0.8484848484848485, 0.8235294117647058, 0.8, 0.8055555555555556, 0.8108108108108109, 0.8157894736842105, 0.8205128205128205, 0.825, 0.8292682926829268, 0.8333333333333334, 0.8372093023255814, 0.8409090909090909, 0.8444444444444444, 0.8260869565217391, 0.8297872340425532, 0.8333333333333334, 0.8367346938775511, 0.84, 0.8431372549019608, 0.8461538461538461, 0.8301886792452831, 0.8333333333333334, 0.8363636363636363, 0.8392857142857143, 0.8421052631578947, 0.8448275862068966, 0.847457627118644, 0.85, 0.8360655737704918, 0.8387096774193549, 0.8412698412698413, 0.84375, 0.8461538461538461, 0.8484848484848485, 0.8507462686567164, 0.8529411764705882, 0.8405797101449275, 0.8428571428571429, 0.8450704225352113, 0.8333333333333334, 0.8356164383561644, 0.8378378378378378, 0.84, 0.8421052631578947, 0.8441558441558441, 0.8333333333333334, 0.8354430379746836, 0.8375, 0.8395061728395061, 0.8414634146341463, 0.8433734939759037, 0.8452380952380952, 0.8470588235294118, 0.8372093023255814, 0.8275862068965517, 0.8295454545454546, 0.8314606741573034, 0.8222222222222222, 0.8241758241758241, 0.8260869565217391, 0.8279569892473119, 0.8297872340425532, 0.8315789473684211, 0.8333333333333334, 0.8350515463917526, 0.8367346938775511, 0.8383838383838383, 0.84]\n"
     ]
    }
   ],
   "source": [
    "testQ6()"
   ]
  },
  {
   "cell_type": "code",
   "execution_count": 321,
   "id": "a76de3cd",
   "metadata": {},
   "outputs": [
    {
     "name": "stdout",
     "output_type": "stream",
     "text": [
      "(0.5, 0.5)\n"
     ]
    }
   ],
   "source": [
    "testQ7()"
   ]
  },
  {
   "cell_type": "code",
   "execution_count": null,
   "id": "30c84736",
   "metadata": {},
   "outputs": [],
   "source": []
  },
  {
   "cell_type": "code",
   "execution_count": null,
   "id": "0988a08a-57e1-49cd-bb2b-11a8041f09de",
   "metadata": {},
   "outputs": [],
   "source": []
  },
  {
   "cell_type": "code",
   "execution_count": null,
   "id": "9adeea1c-8393-489c-8981-397d1a2dc2ff",
   "metadata": {},
   "outputs": [],
   "source": []
  },
  {
   "cell_type": "code",
   "execution_count": null,
   "id": "03c91f64-a798-49ff-998a-aeec9ac2ae4c",
   "metadata": {},
   "outputs": [],
   "source": []
  },
  {
   "cell_type": "code",
   "execution_count": null,
   "id": "ab6b7c3e-c813-4bd8-a613-1dad584eb8cb",
   "metadata": {},
   "outputs": [],
   "source": []
  },
  {
   "cell_type": "code",
   "execution_count": null,
   "id": "64039398-60fd-4cde-a0a1-c976a0bfddfb",
   "metadata": {},
   "outputs": [],
   "source": []
  },
  {
   "cell_type": "code",
   "execution_count": null,
   "id": "fb6366ea-f58c-4369-806d-8965286dd353",
   "metadata": {},
   "outputs": [],
   "source": []
  }
 ],
 "metadata": {
  "kernelspec": {
   "display_name": "Python 3 (ipykernel)",
   "language": "python",
   "name": "python3"
  },
  "language_info": {
   "codemirror_mode": {
    "name": "ipython",
    "version": 3
   },
   "file_extension": ".py",
   "mimetype": "text/x-python",
   "name": "python",
   "nbconvert_exporter": "python",
   "pygments_lexer": "ipython3",
   "version": "3.12.1"
  }
 },
 "nbformat": 4,
 "nbformat_minor": 5
}
